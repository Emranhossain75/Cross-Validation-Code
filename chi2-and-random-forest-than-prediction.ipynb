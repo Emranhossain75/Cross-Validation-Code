{
 "cells": [
  {
   "cell_type": "code",
   "execution_count": 1,
   "metadata": {
    "_cell_guid": "79c7e3d0-c299-4dcb-8224-4455121ee9b0",
    "_uuid": "d629ff2d2480ee46fbb7e2d37f6b5fab8052498a"
   },
   "outputs": [
    {
     "name": "stdout",
     "output_type": "stream",
     "text": [
      "Populating the interactive namespace from numpy and matplotlib\n"
     ]
    },
    {
     "name": "stderr",
     "output_type": "stream",
     "text": [
      "/opt/conda/lib/python3.6/site-packages/IPython/core/magics/pylab.py:160: UserWarning: pylab import has clobbered these variables: ['chisquare']\n",
      "`%matplotlib` prevents importing * from pylab and numpy\n",
      "  \"\\n`%matplotlib` prevents importing * from pylab and numpy\"\n"
     ]
    }
   ],
   "source": [
    "import matplotlib.pyplot as plt\n",
    "import numpy as np\n",
    "from sklearn import metrics\n",
    "from sklearn.metrics import accuracy_score, classification_report, confusion_matrix\n",
    "\n",
    "\n",
    "from scipy.stats import chisquare\n",
    "\n",
    "from sklearn.impute import SimpleImputer\n",
    "\n",
    "from sklearn.neighbors import KNeighborsClassifier\n",
    "\n",
    "from sklearn.model_selection import cross_val_score\n",
    "\n",
    "from sklearn.metrics import accuracy_score, classification_report, confusion_matrix, roc_auc_score, roc_curve, auc\n",
    "%matplotlib inline\n",
    "\n",
    "%pylab inline\n",
    "\n",
    "import pandas as pd\n",
    "import seaborn as sns"
   ]
  },
  {
   "cell_type": "markdown",
   "metadata": {},
   "source": [
    "# Upload Data"
   ]
  },
  {
   "cell_type": "code",
   "execution_count": 2,
   "metadata": {
    "_cell_guid": "",
    "_uuid": ""
   },
   "outputs": [],
   "source": [
    "import pandas as pd\n",
    "df_wine = pd.read_csv(\"../input/hr-analytics/HR_comma_sep.csv\")"
   ]
  },
  {
   "cell_type": "code",
   "execution_count": 3,
   "metadata": {},
   "outputs": [],
   "source": [
    "df_wine.columns = ['satisfaction_level','last_evaluation','number_project',\n",
    "        'average_montly_hours','time_spend_company','Work_accident','left',\n",
    "        'promotion_last_5years','Department','salary']"
   ]
  },
  {
   "cell_type": "code",
   "execution_count": 4,
   "metadata": {},
   "outputs": [
    {
     "data": {
      "text/html": [
       "<div>\n",
       "<style scoped>\n",
       "    .dataframe tbody tr th:only-of-type {\n",
       "        vertical-align: middle;\n",
       "    }\n",
       "\n",
       "    .dataframe tbody tr th {\n",
       "        vertical-align: top;\n",
       "    }\n",
       "\n",
       "    .dataframe thead th {\n",
       "        text-align: right;\n",
       "    }\n",
       "</style>\n",
       "<table border=\"1\" class=\"dataframe\">\n",
       "  <thead>\n",
       "    <tr style=\"text-align: right;\">\n",
       "      <th></th>\n",
       "      <th>satisfaction_level</th>\n",
       "      <th>last_evaluation</th>\n",
       "      <th>number_project</th>\n",
       "      <th>average_montly_hours</th>\n",
       "      <th>time_spend_company</th>\n",
       "      <th>Work_accident</th>\n",
       "      <th>left</th>\n",
       "      <th>promotion_last_5years</th>\n",
       "      <th>Department</th>\n",
       "      <th>salary</th>\n",
       "    </tr>\n",
       "  </thead>\n",
       "  <tbody>\n",
       "    <tr>\n",
       "      <th>0</th>\n",
       "      <td>0.38</td>\n",
       "      <td>0.53</td>\n",
       "      <td>2</td>\n",
       "      <td>157</td>\n",
       "      <td>3</td>\n",
       "      <td>0</td>\n",
       "      <td>1</td>\n",
       "      <td>0</td>\n",
       "      <td>sales</td>\n",
       "      <td>low</td>\n",
       "    </tr>\n",
       "    <tr>\n",
       "      <th>1</th>\n",
       "      <td>0.80</td>\n",
       "      <td>0.86</td>\n",
       "      <td>5</td>\n",
       "      <td>262</td>\n",
       "      <td>6</td>\n",
       "      <td>0</td>\n",
       "      <td>1</td>\n",
       "      <td>0</td>\n",
       "      <td>sales</td>\n",
       "      <td>medium</td>\n",
       "    </tr>\n",
       "    <tr>\n",
       "      <th>2</th>\n",
       "      <td>0.11</td>\n",
       "      <td>0.88</td>\n",
       "      <td>7</td>\n",
       "      <td>272</td>\n",
       "      <td>4</td>\n",
       "      <td>0</td>\n",
       "      <td>1</td>\n",
       "      <td>0</td>\n",
       "      <td>sales</td>\n",
       "      <td>medium</td>\n",
       "    </tr>\n",
       "  </tbody>\n",
       "</table>\n",
       "</div>"
      ],
      "text/plain": [
       "   satisfaction_level  last_evaluation  number_project  average_montly_hours  \\\n",
       "0                0.38             0.53               2                   157   \n",
       "1                0.80             0.86               5                   262   \n",
       "2                0.11             0.88               7                   272   \n",
       "\n",
       "   time_spend_company  Work_accident  left  promotion_last_5years Department  \\\n",
       "0                   3              0     1                      0      sales   \n",
       "1                   6              0     1                      0      sales   \n",
       "2                   4              0     1                      0      sales   \n",
       "\n",
       "   salary  \n",
       "0     low  \n",
       "1  medium  \n",
       "2  medium  "
      ]
     },
     "execution_count": 4,
     "metadata": {},
     "output_type": "execute_result"
    }
   ],
   "source": [
    "df_wine.head(3)"
   ]
  },
  {
   "cell_type": "markdown",
   "metadata": {},
   "source": [
    "# Import label encoder salary"
   ]
  },
  {
   "cell_type": "code",
   "execution_count": 5,
   "metadata": {},
   "outputs": [
    {
     "data": {
      "text/plain": [
       "array([1, 2, 0])"
      ]
     },
     "execution_count": 5,
     "metadata": {},
     "output_type": "execute_result"
    }
   ],
   "source": [
    "# Import label encoder \n",
    "from sklearn import preprocessing \n",
    "  \n",
    "# label_encoder object knows how to understand word labels. \n",
    "label_encoder = preprocessing.LabelEncoder() \n",
    "  \n",
    "# Encode labels in column 'salary'. \n",
    "df_wine['salary']= label_encoder.fit_transform(df_wine['salary']) \n",
    "  \n",
    "df_wine['salary'].unique()"
   ]
  },
  {
   "cell_type": "markdown",
   "metadata": {},
   "source": [
    "# label encoder Department"
   ]
  },
  {
   "cell_type": "code",
   "execution_count": 6,
   "metadata": {},
   "outputs": [
    {
     "data": {
      "text/plain": [
       "array([7, 2, 3, 9, 8, 4, 0, 6, 5, 1])"
      ]
     },
     "execution_count": 6,
     "metadata": {},
     "output_type": "execute_result"
    }
   ],
   "source": [
    "# Import label encoder \n",
    "from sklearn import preprocessing \n",
    "  \n",
    "# label_encoder object knows how to understand word labels. \n",
    "label_encoder = preprocessing.LabelEncoder() \n",
    "  \n",
    "# Encode labels in column 'Department'. \n",
    "df_wine['Department']= label_encoder.fit_transform(df_wine['Department']) \n",
    "  \n",
    "df_wine['Department'].unique() "
   ]
  },
  {
   "cell_type": "markdown",
   "metadata": {},
   "source": [
    "# chi2"
   ]
  },
  {
   "cell_type": "code",
   "execution_count": 7,
   "metadata": {},
   "outputs": [],
   "source": [
    "X = df_wine.iloc[:,:-1]\n",
    "y = df_wine.iloc[:,-1:]  \n",
    "dfcolumns =pd.DataFrame(df_wine.columns) "
   ]
  },
  {
   "cell_type": "code",
   "execution_count": 8,
   "metadata": {},
   "outputs": [],
   "source": [
    "from sklearn.feature_selection import SelectKBest\n",
    "from sklearn.feature_selection import chi2\n",
    "bestfeatures = SelectKBest(score_func=chi2, k='all')\n",
    "fit = bestfeatures.fit(X,y)\n",
    "dfscores = pd.DataFrame(fit.scores_)\n"
   ]
  },
  {
   "cell_type": "code",
   "execution_count": 9,
   "metadata": {},
   "outputs": [],
   "source": [
    "#concat two dataframes for better visualization \n",
    "featureScores = pd.concat([dfcolumns,dfscores],axis=1)\n",
    "featureScores.columns = ['Specs','Chi2 Weights']\n",
    "# print(featureScores.nlargest(len(data_frame.columns),'Score'))"
   ]
  },
  {
   "cell_type": "code",
   "execution_count": 10,
   "metadata": {},
   "outputs": [
    {
     "data": {
      "text/html": [
       "<div>\n",
       "<style scoped>\n",
       "    .dataframe tbody tr th:only-of-type {\n",
       "        vertical-align: middle;\n",
       "    }\n",
       "\n",
       "    .dataframe tbody tr th {\n",
       "        vertical-align: top;\n",
       "    }\n",
       "\n",
       "    .dataframe thead th {\n",
       "        text-align: right;\n",
       "    }\n",
       "</style>\n",
       "<table border=\"1\" class=\"dataframe\">\n",
       "  <thead>\n",
       "    <tr style=\"text-align: right;\">\n",
       "      <th></th>\n",
       "      <th>Specs</th>\n",
       "      <th>Chi2 Weights</th>\n",
       "    </tr>\n",
       "  </thead>\n",
       "  <tbody>\n",
       "    <tr>\n",
       "      <th>6</th>\n",
       "      <td>left</td>\n",
       "      <td>290.462020</td>\n",
       "    </tr>\n",
       "    <tr>\n",
       "      <th>7</th>\n",
       "      <td>promotion_last_5years</td>\n",
       "      <td>145.008319</td>\n",
       "    </tr>\n",
       "    <tr>\n",
       "      <th>8</th>\n",
       "      <td>Department</td>\n",
       "      <td>40.070240</td>\n",
       "    </tr>\n",
       "    <tr>\n",
       "      <th>4</th>\n",
       "      <td>time_spend_company</td>\n",
       "      <td>22.665090</td>\n",
       "    </tr>\n",
       "    <tr>\n",
       "      <th>3</th>\n",
       "      <td>average_montly_hours</td>\n",
       "      <td>11.374087</td>\n",
       "    </tr>\n",
       "    <tr>\n",
       "      <th>0</th>\n",
       "      <td>satisfaction_level</td>\n",
       "      <td>3.816073</td>\n",
       "    </tr>\n",
       "    <tr>\n",
       "      <th>5</th>\n",
       "      <td>Work_accident</td>\n",
       "      <td>1.292191</td>\n",
       "    </tr>\n",
       "    <tr>\n",
       "      <th>2</th>\n",
       "      <td>number_project</td>\n",
       "      <td>0.623815</td>\n",
       "    </tr>\n",
       "    <tr>\n",
       "      <th>1</th>\n",
       "      <td>last_evaluation</td>\n",
       "      <td>0.261557</td>\n",
       "    </tr>\n",
       "    <tr>\n",
       "      <th>9</th>\n",
       "      <td>salary</td>\n",
       "      <td>NaN</td>\n",
       "    </tr>\n",
       "  </tbody>\n",
       "</table>\n",
       "</div>"
      ],
      "text/plain": [
       "                   Specs  Chi2 Weights\n",
       "6                   left    290.462020\n",
       "7  promotion_last_5years    145.008319\n",
       "8             Department     40.070240\n",
       "4     time_spend_company     22.665090\n",
       "3   average_montly_hours     11.374087\n",
       "0     satisfaction_level      3.816073\n",
       "5          Work_accident      1.292191\n",
       "2         number_project      0.623815\n",
       "1        last_evaluation      0.261557\n",
       "9                 salary           NaN"
      ]
     },
     "metadata": {},
     "output_type": "display_data"
    },
    {
     "data": {
      "text/plain": [
       "(10, 2)"
      ]
     },
     "metadata": {},
     "output_type": "display_data"
    }
   ],
   "source": [
    "\n",
    "# featureScores.plot(kind='bar', subplots=True, figsize=(20,20))\n",
    "featureScores = featureScores.sort_values(by=['Chi2 Weights'], ascending=False)\n",
    "display(featureScores)\n",
    "display(featureScores.shape)"
   ]
  },
  {
   "cell_type": "markdown",
   "metadata": {},
   "source": [
    "# Training model"
   ]
  },
  {
   "cell_type": "code",
   "execution_count": 11,
   "metadata": {},
   "outputs": [],
   "source": [
    "from sklearn.model_selection import train_test_split\n",
    "\n",
    "feature_column_names = ['satisfaction_level','last_evaluation','number_project','average_montly_hours','time_spend_company','Work_accident','promotion_last_5years','Department','salary']\n",
    "predicted_class_name = ['left']\n",
    "\n",
    "# Getting feature variable values\n",
    "X = df_wine[feature_column_names].values\n",
    "y = df_wine[predicted_class_name].values\n",
    "\n",
    "# Splitting using scikit-learn train_test_split function\n",
    "X_train, X_test, y_train, y_test = train_test_split(X, y, test_size = 0.30, random_state = 42)\n"
   ]
  },
  {
   "cell_type": "markdown",
   "metadata": {},
   "source": [
    "# RandomForestClassifier Importances"
   ]
  },
  {
   "cell_type": "code",
   "execution_count": 12,
   "metadata": {},
   "outputs": [],
   "source": [
    "from sklearn.ensemble import RandomForestClassifier"
   ]
  },
  {
   "cell_type": "code",
   "execution_count": 13,
   "metadata": {},
   "outputs": [
    {
     "name": "stderr",
     "output_type": "stream",
     "text": [
      "/opt/conda/lib/python3.6/site-packages/ipykernel_launcher.py:4: DataConversionWarning: A column-vector y was passed when a 1d array was expected. Please change the shape of y to (n_samples,), for example using ravel().\n",
      "  after removing the cwd from sys.path.\n"
     ]
    },
    {
     "name": "stdout",
     "output_type": "stream",
     "text": [
      " 1) satisfaction_level             0.345032\n",
      " 2) last_evaluation                0.182678\n",
      " 3) number_project                 0.180379\n",
      " 4) average_montly_hours           0.143579\n",
      " 5) time_spend_company             0.121260\n",
      " 6) Work_accident                  0.012071\n",
      " 7) left                           0.008336\n",
      " 8) promotion_last_5years          0.005729\n",
      " 9) Department                     0.000937\n"
     ]
    }
   ],
   "source": [
    "df_wine.columns[:-1]\n",
    "feat_labels = df_wine.columns[:]\n",
    "forest = RandomForestClassifier(n_estimators=10000, random_state=0, n_jobs=-1)\n",
    "forest.fit(X_train, y_train)\n",
    "importances = forest.feature_importances_\n",
    "indices = np.argsort(importances)[::-1]\n",
    "for f in range(X_train.shape[1]):\n",
    "    print(\"%2d) %-*s %f\" % (f + 1, 30, feat_labels[f],importances[indices[f]]))\n",
    "    \n"
   ]
  },
  {
   "cell_type": "code",
   "execution_count": 14,
   "metadata": {},
   "outputs": [
    {
     "data": {
      "image/png": "[encoded data removed]",
      "text/plain": [
       "<Figure size 432x288 with 1 Axes>"
      ]
     },
     "metadata": {
      "needs_background": "light"
     },
     "output_type": "display_data"
    }
   ],
   "source": [
    "title('Feature Importances')\n",
    "bar(range(X_train.shape[1]), importances[indices], \n",
    "                     color='green', align='center')\n",
    "xticks(range(X_train.shape[1]),\n",
    "feat_labels, rotation=90)\n",
    "xlim([-1, X_train.shape[1]])\n",
    "tight_layout()\n",
    "show()"
   ]
  },
  {
   "cell_type": "markdown",
   "metadata": {},
   "source": []
  },
  {
   "cell_type": "code",
   "execution_count": 15,
   "metadata": {},
   "outputs": [],
   "source": [
    "feature_column_names = ['satisfaction_level','last_evaluation','average_montly_hours','promotion_last_5years','Department']\n",
    "predicted_class_name = ['left']\n",
    "\n",
    "# Getting feature variable values\n",
    "X = df_wine[feature_column_names].values\n",
    "y = df_wine[predicted_class_name].values\n",
    "\n",
    "# Splitting using scikit-learn train_test_split function\n",
    "X_train, X_test, y_train, y_test = train_test_split(X, y, test_size = 0.30, random_state = 42)\n"
   ]
  },
  {
   "cell_type": "markdown",
   "metadata": {},
   "source": []
  },
  {
   "cell_type": "markdown",
   "metadata": {},
   "source": [
    " # After feature selection GaussianNB "
   ]
  },
  {
   "cell_type": "code",
   "execution_count": 16,
   "metadata": {},
   "outputs": [
    {
     "name": "stdout",
     "output_type": "stream",
     "text": [
      "Accuracy of our GaussianNB model is : 0.7915\n"
     ]
    }
   ],
   "source": [
    "from sklearn.naive_bayes import GaussianNB\n",
    "\n",
    "\n",
    "nb_model= GaussianNB()\n",
    "nb_model.fit(X_train, y_train.ravel())  # ravel() return 1-D array\n",
    "\n",
    "# get current accuracy of the model\n",
    "prediction_from_trained_data = nb_model.predict(X_train)\n",
    "accuracy = metrics.accuracy_score(y_train, prediction_from_trained_data)\n",
    "print (\"Accuracy of our GaussianNB model is : {0:.4f}\".format(accuracy))"
   ]
  },
  {
   "cell_type": "code",
   "execution_count": 17,
   "metadata": {},
   "outputs": [
    {
     "name": "stdout",
     "output_type": "stream",
     "text": [
      "Accuracy of our GaussianNB model is: 0.7776 %\n",
      "Confusion Matrix\n",
      "[[ 573  499]\n",
      " [ 502 2926]]\n",
      "Classification Report\n",
      "              precision    recall  f1-score   support\n",
      "\n",
      "           1       0.53      0.53      0.53      1072\n",
      "           0       0.85      0.85      0.85      3428\n",
      "\n",
      "    accuracy                           0.78      4500\n",
      "   macro avg       0.69      0.69      0.69      4500\n",
      "weighted avg       0.78      0.78      0.78      4500\n",
      "\n"
     ]
    }
   ],
   "source": [
    "# this returns array of predicted results from test_data\n",
    "prediction_from_test_data = nb_model.predict(X_test)\n",
    "\n",
    "accuracy = metrics.accuracy_score(y_test, prediction_from_test_data)\n",
    "\n",
    "print (\"Accuracy of our GaussianNB model is: {0:0.4f} %\".format(accuracy))\n",
    "\n",
    "\n",
    "print (\"Confusion Matrix\")\n",
    "print (\"{0}\".format(metrics.confusion_matrix(y_test, prediction_from_test_data, labels=[1, 0])))\n",
    "\n",
    "print (\"Classification Report\")\n",
    "# labels for set 1=True to upper left and 0 = False to lower right\n",
    "print (\"{0}\".format(metrics.classification_report(y_test, prediction_from_test_data, labels=[1, 0])))"
   ]
  },
  {
   "cell_type": "markdown",
   "metadata": {},
   "source": [
    "# RandomForestClassifier"
   ]
  },
  {
   "cell_type": "code",
   "execution_count": 18,
   "metadata": {},
   "outputs": [
    {
     "name": "stderr",
     "output_type": "stream",
     "text": [
      "/opt/conda/lib/python3.6/site-packages/sklearn/ensemble/forest.py:245: FutureWarning: The default value of n_estimators will change from 10 in version 0.20 to 100 in 0.22.\n",
      "  \"10 in version 0.20 to 100 in 0.22.\", FutureWarning)\n"
     ]
    },
    {
     "data": {
      "text/plain": [
       "RandomForestClassifier(bootstrap=True, class_weight=None, criterion='gini',\n",
       "                       max_depth=None, max_features='auto', max_leaf_nodes=None,\n",
       "                       min_impurity_decrease=0.0, min_impurity_split=None,\n",
       "                       min_samples_leaf=1, min_samples_split=2,\n",
       "                       min_weight_fraction_leaf=0.0, n_estimators=10,\n",
       "                       n_jobs=None, oob_score=False, random_state=42, verbose=0,\n",
       "                       warm_start=False)"
      ]
     },
     "execution_count": 18,
     "metadata": {},
     "output_type": "execute_result"
    }
   ],
   "source": [
    "rf_model = RandomForestClassifier(random_state=42)\n",
    "\n",
    "rf_model.fit(X_train, y_train.ravel())"
   ]
  },
  {
   "cell_type": "code",
   "execution_count": 19,
   "metadata": {},
   "outputs": [
    {
     "name": "stdout",
     "output_type": "stream",
     "text": [
      "Accuracy: 0.9963\n"
     ]
    }
   ],
   "source": [
    "rf_predict_train = rf_model.predict(X_train)\n",
    "\n",
    "rf_accuracy = metrics.accuracy_score(y_train, rf_predict_train)\n",
    "print (\"Accuracy: {0:.4f}\".format(rf_accuracy))"
   ]
  },
  {
   "cell_type": "code",
   "execution_count": 20,
   "metadata": {},
   "outputs": [
    {
     "name": "stdout",
     "output_type": "stream",
     "text": [
      "Accuracy: 0.9591\n",
      "Confusion Matrix for Random Forest\n",
      "[[ 970  102]\n",
      " [  82 3346]]\n",
      "\n",
      "Classification Report\n",
      "\n",
      "              precision    recall  f1-score   support\n",
      "\n",
      "           1       0.92      0.90      0.91      1072\n",
      "           0       0.97      0.98      0.97      3428\n",
      "\n",
      "    accuracy                           0.96      4500\n",
      "   macro avg       0.95      0.94      0.94      4500\n",
      "weighted avg       0.96      0.96      0.96      4500\n",
      "\n"
     ]
    }
   ],
   "source": [
    "rf_predict_test = rf_model.predict(X_test)\n",
    "\n",
    "rf_accuracy_testdata = metrics.accuracy_score(y_test, rf_predict_test)\n",
    "print (\"Accuracy: {0:.4f}\".format(rf_accuracy_testdata))\n",
    "\n",
    "print (\"Confusion Matrix for Random Forest\")\n",
    "print (\"{0}\".format(metrics.confusion_matrix(y_test, rf_predict_test, labels=[1, 0])))\n",
    "print (\"\")\n",
    "print (\"Classification Report\\n\")\n",
    "print (\"{0}\".format(metrics.classification_report(y_test, rf_predict_test, labels=[1, 0])))"
   ]
  },
  {
   "cell_type": "markdown",
   "metadata": {},
   "source": [
    "# SVM Model"
   ]
  },
  {
   "cell_type": "code",
   "execution_count": 21,
   "metadata": {},
   "outputs": [
    {
     "name": "stderr",
     "output_type": "stream",
     "text": [
      "/opt/conda/lib/python3.6/site-packages/sklearn/utils/validation.py:724: DataConversionWarning: A column-vector y was passed when a 1d array was expected. Please change the shape of y to (n_samples, ), for example using ravel().\n",
      "  y = column_or_1d(y, warn=True)\n",
      "/opt/conda/lib/python3.6/site-packages/sklearn/svm/base.py:193: FutureWarning: The default value of gamma will change from 'auto' to 'scale' in version 0.22 to account better for unscaled features. Set gamma explicitly to 'auto' or 'scale' to avoid this warning.\n",
      "  \"avoid this warning.\", FutureWarning)\n"
     ]
    },
    {
     "name": "stdout",
     "output_type": "stream",
     "text": [
      "Training score:  0.8695113820363845\n",
      "Testing score:  0.8537777777777777\n"
     ]
    }
   ],
   "source": [
    "from sklearn.svm import SVC\n",
    "svm = SVC()\n",
    "svm.fit(X_train, y_train)\n",
    "svm_score_train = svm.score(X_train, y_train)\n",
    "print(\"Training score: \",svm_score_train)\n",
    "svm_score_test = svm.score(X_test, y_test)\n",
    "print(\"Testing score: \",svm_score_test)"
   ]
  },
  {
   "cell_type": "markdown",
   "metadata": {},
   "source": [
    "# Decision Tree"
   ]
  },
  {
   "cell_type": "code",
   "execution_count": 22,
   "metadata": {},
   "outputs": [
    {
     "name": "stdout",
     "output_type": "stream",
     "text": [
      "Training score:  0.9999047528336032\n",
      "Testing score:  0.9504444444444444\n"
     ]
    }
   ],
   "source": [
    "\n",
    "from sklearn import tree\n",
    "dt = tree.DecisionTreeClassifier()\n",
    "dt.fit(X_train, y_train)\n",
    "dt_score_train = dt.score(X_train, y_train)\n",
    "print(\"Training score: \",dt_score_train)\n",
    "dt_score_test = dt.score(X_test, y_test)\n",
    "print(\"Testing score: \",dt_score_test)"
   ]
  },
  {
   "cell_type": "markdown",
   "metadata": {},
   "source": [
    "# LogisticRegression model"
   ]
  },
  {
   "cell_type": "code",
   "execution_count": 23,
   "metadata": {},
   "outputs": [
    {
     "data": {
      "text/plain": [
       "LogisticRegression(C=1.0, class_weight=None, dual=False, fit_intercept=True,\n",
       "                   intercept_scaling=1, l1_ratio=None, max_iter=100,\n",
       "                   multi_class='warn', n_jobs=None, penalty='l1',\n",
       "                   random_state=None, solver='warn', tol=0.0001, verbose=0,\n",
       "                   warm_start=False)"
      ]
     },
     "execution_count": 23,
     "metadata": {},
     "output_type": "execute_result"
    }
   ],
   "source": [
    "from sklearn.linear_model import LogisticRegression\n",
    "\n",
    "LogisticRegression(penalty='l1')"
   ]
  },
  {
   "cell_type": "code",
   "execution_count": 24,
   "metadata": {},
   "outputs": [
    {
     "name": "stdout",
     "output_type": "stream",
     "text": [
      "Training score:  0.7748356986379655\n",
      "Testing score:  0.7628888888888888\n"
     ]
    },
    {
     "name": "stderr",
     "output_type": "stream",
     "text": [
      "/opt/conda/lib/python3.6/site-packages/sklearn/linear_model/logistic.py:432: FutureWarning: Default solver will be changed to 'lbfgs' in 0.22. Specify a solver to silence this warning.\n",
      "  FutureWarning)\n",
      "/opt/conda/lib/python3.6/site-packages/sklearn/utils/validation.py:724: DataConversionWarning: A column-vector y was passed when a 1d array was expected. Please change the shape of y to (n_samples, ), for example using ravel().\n",
      "  y = column_or_1d(y, warn=True)\n"
     ]
    }
   ],
   "source": [
    "logis = LogisticRegression()\n",
    "logis.fit(X_train, y_train)\n",
    "logis_score_train = logis.score(X_train, y_train)\n",
    "print(\"Training score: \",logis_score_train)\n",
    "logis_score_test = logis.score(X_test, y_test)\n",
    "print(\"Testing score: \",logis_score_test)"
   ]
  },
  {
   "cell_type": "markdown",
   "metadata": {},
   "source": [
    "# KNeighborsClassifier"
   ]
  },
  {
   "cell_type": "code",
   "execution_count": 25,
   "metadata": {},
   "outputs": [
    {
     "name": "stderr",
     "output_type": "stream",
     "text": [
      "/opt/conda/lib/python3.6/site-packages/ipykernel_launcher.py:3: DataConversionWarning: A column-vector y was passed when a 1d array was expected. Please change the shape of y to (n_samples, ), for example using ravel().\n",
      "  This is separate from the ipykernel package so we can avoid doing imports until\n"
     ]
    },
    {
     "name": "stdout",
     "output_type": "stream",
     "text": [
      "Training accuracy: 0.9655205257643585\n",
      "Test accuracy: 0.8822222222222222\n"
     ]
    }
   ],
   "source": [
    "from sklearn.neighbors import KNeighborsClassifier\n",
    "knn = KNeighborsClassifier(n_neighbors=2)\n",
    "knn.fit(X_train, y_train)\n",
    "knn_accuracy=knn.score(X_train, y_train)\n",
    "print('Training accuracy:',knn_accuracy )\n",
    "knn_accuracy_testdata = knn.score(X_test, y_test)\n",
    "print('Test accuracy:',knn_accuracy_testdata )"
   ]
  },
  {
   "cell_type": "markdown",
   "metadata": {},
   "source": [
    "# All Comparison"
   ]
  },
  {
   "cell_type": "code",
   "execution_count": 26,
   "metadata": {},
   "outputs": [
    {
     "data": {
      "text/html": [
       "<div>\n",
       "<style scoped>\n",
       "    .dataframe tbody tr th:only-of-type {\n",
       "        vertical-align: middle;\n",
       "    }\n",
       "\n",
       "    .dataframe tbody tr th {\n",
       "        vertical-align: top;\n",
       "    }\n",
       "\n",
       "    .dataframe thead th {\n",
       "        text-align: right;\n",
       "    }\n",
       "</style>\n",
       "<table border=\"1\" class=\"dataframe\">\n",
       "  <thead>\n",
       "    <tr style=\"text-align: right;\">\n",
       "      <th></th>\n",
       "      <th>Model</th>\n",
       "      <th>Training_Score</th>\n",
       "      <th>Testing_Score</th>\n",
       "    </tr>\n",
       "  </thead>\n",
       "  <tbody>\n",
       "    <tr>\n",
       "      <th>4</th>\n",
       "      <td>Random Forest</td>\n",
       "      <td>0.996285</td>\n",
       "      <td>0.959111</td>\n",
       "    </tr>\n",
       "    <tr>\n",
       "      <th>3</th>\n",
       "      <td>Decision Tree</td>\n",
       "      <td>0.999905</td>\n",
       "      <td>0.950444</td>\n",
       "    </tr>\n",
       "    <tr>\n",
       "      <th>2</th>\n",
       "      <td>kNN</td>\n",
       "      <td>0.965521</td>\n",
       "      <td>0.882222</td>\n",
       "    </tr>\n",
       "    <tr>\n",
       "      <th>1</th>\n",
       "      <td>SVM</td>\n",
       "      <td>0.869511</td>\n",
       "      <td>0.853778</td>\n",
       "    </tr>\n",
       "    <tr>\n",
       "      <th>5</th>\n",
       "      <td>GaussianNB</td>\n",
       "      <td>0.777556</td>\n",
       "      <td>0.777556</td>\n",
       "    </tr>\n",
       "    <tr>\n",
       "      <th>0</th>\n",
       "      <td>Logistic Regression</td>\n",
       "      <td>0.774836</td>\n",
       "      <td>0.762889</td>\n",
       "    </tr>\n",
       "  </tbody>\n",
       "</table>\n",
       "</div>"
      ],
      "text/plain": [
       "                 Model  Training_Score  Testing_Score\n",
       "4        Random Forest        0.996285       0.959111\n",
       "3        Decision Tree        0.999905       0.950444\n",
       "2                  kNN        0.965521       0.882222\n",
       "1                  SVM        0.869511       0.853778\n",
       "5           GaussianNB        0.777556       0.777556\n",
       "0  Logistic Regression        0.774836       0.762889"
      ]
     },
     "execution_count": 26,
     "metadata": {},
     "output_type": "execute_result"
    }
   ],
   "source": [
    "#Model comparison\n",
    "models = pd.DataFrame({\n",
    "        'Model'          : ['Logistic Regression', 'SVM', 'kNN', 'Decision Tree', 'Random Forest','GaussianNB'],\n",
    "        'Training_Score' : [logis_score_train, svm_score_train, knn_accuracy, dt_score_train, rf_accuracy, accuracy],\n",
    "        'Testing_Score'  : [logis_score_test, svm_score_test, knn_accuracy_testdata, dt_score_test, rf_accuracy_testdata,accuracy ]\n",
    "    })\n",
    "models.sort_values(by='Testing_Score', ascending=False)"
   ]
  },
  {
   "cell_type": "markdown",
   "metadata": {},
   "source": [
    " # After feature selection GaussianNB "
   ]
  },
  {
   "cell_type": "code",
   "execution_count": 27,
   "metadata": {},
   "outputs": [],
   "source": [
    "feature_column_names = ['satisfaction_level','last_evaluation','number_project',\n",
    "                        'average_montly_hours','time_spend_company']\n",
    "predicted_class_name = ['left']\n",
    "\n",
    "# Getting feature variable values\n",
    "X = df_wine[feature_column_names].values\n",
    "y = df_wine[predicted_class_name].values\n",
    "\n",
    "# Splitting using scikit-learn train_test_split function\n",
    "X_train, X_test, y_train, y_test = train_test_split(X, y, test_size = 0.30, random_state = 42)"
   ]
  },
  {
   "cell_type": "code",
   "execution_count": 28,
   "metadata": {},
   "outputs": [
    {
     "name": "stdout",
     "output_type": "stream",
     "text": [
      "Accuracy of our GaussianNB model is : 0.8032\n"
     ]
    }
   ],
   "source": [
    "\n",
    "nb_model= GaussianNB()\n",
    "nb_model.fit(X_train, y_train.ravel())  # ravel() return 1-D array\n",
    "\n",
    "# get current accuracy of the model\n",
    "prediction_from_trained_data = nb_model.predict(X_train)\n",
    "accuracy = metrics.accuracy_score(y_train, prediction_from_trained_data)\n",
    "print (\"Accuracy of our GaussianNB model is : {0:.4f}\".format(accuracy))"
   ]
  },
  {
   "cell_type": "markdown",
   "metadata": {},
   "source": [
    "# RandomForestClassifier"
   ]
  },
  {
   "cell_type": "code",
   "execution_count": 29,
   "metadata": {},
   "outputs": [
    {
     "name": "stdout",
     "output_type": "stream",
     "text": [
      "Accuracy: 0.9975\n"
     ]
    },
    {
     "name": "stderr",
     "output_type": "stream",
     "text": [
      "/opt/conda/lib/python3.6/site-packages/sklearn/ensemble/forest.py:245: FutureWarning: The default value of n_estimators will change from 10 in version 0.20 to 100 in 0.22.\n",
      "  \"10 in version 0.20 to 100 in 0.22.\", FutureWarning)\n"
     ]
    }
   ],
   "source": [
    "rf_model = RandomForestClassifier(random_state=42)\n",
    "\n",
    "rf_model.fit(X_train, y_train.ravel())\n",
    "\n",
    "rf_predict_train = rf_model.predict(X_train)\n",
    "\n",
    "rf_accuracy = metrics.accuracy_score(y_train, rf_predict_train)\n",
    "print (\"Accuracy: {0:.4f}\".format(rf_accuracy))"
   ]
  },
  {
   "cell_type": "code",
   "execution_count": 30,
   "metadata": {},
   "outputs": [
    {
     "name": "stdout",
     "output_type": "stream",
     "text": [
      "Accuracy: 0.9864\n",
      "Confusion Matrix for Random Forest\n",
      "[[1019   53]\n",
      " [   8 3420]]\n",
      "\n",
      "Classification Report\n",
      "\n",
      "              precision    recall  f1-score   support\n",
      "\n",
      "           1       0.99      0.95      0.97      1072\n",
      "           0       0.98      1.00      0.99      3428\n",
      "\n",
      "    accuracy                           0.99      4500\n",
      "   macro avg       0.99      0.97      0.98      4500\n",
      "weighted avg       0.99      0.99      0.99      4500\n",
      "\n"
     ]
    }
   ],
   "source": [
    "rf_predict_test = rf_model.predict(X_test)\n",
    "\n",
    "rf_accuracy_testdata = metrics.accuracy_score(y_test, rf_predict_test)\n",
    "print (\"Accuracy: {0:.4f}\".format(rf_accuracy_testdata))\n",
    "\n",
    "print (\"Confusion Matrix for Random Forest\")\n",
    "print (\"{0}\".format(metrics.confusion_matrix(y_test, rf_predict_test, labels=[1, 0])))\n",
    "print (\"\")\n",
    "print (\"Classification Report\\n\")\n",
    "print (\"{0}\".format(metrics.classification_report(y_test, rf_predict_test, labels=[1, 0])))"
   ]
  },
  {
   "cell_type": "markdown",
   "metadata": {},
   "source": [
    "# DecisionTreeClassifier"
   ]
  },
  {
   "cell_type": "code",
   "execution_count": 31,
   "metadata": {},
   "outputs": [
    {
     "name": "stdout",
     "output_type": "stream",
     "text": [
      "Training score:  0.9998095056672064\n",
      "Testing score:  0.9788888888888889\n"
     ]
    }
   ],
   "source": [
    "\n",
    "from sklearn import tree\n",
    "dt = tree.DecisionTreeClassifier()\n",
    "dt.fit(X_train, y_train)\n",
    "dt_score_train = dt.score(X_train, y_train)\n",
    "print(\"Training score: \",dt_score_train)\n",
    "dt_score_test = dt.score(X_test, y_test)\n",
    "print(\"Testing score: \",dt_score_test)"
   ]
  },
  {
   "cell_type": "markdown",
   "metadata": {},
   "source": [
    "# svm"
   ]
  },
  {
   "cell_type": "code",
   "execution_count": 32,
   "metadata": {},
   "outputs": [
    {
     "name": "stderr",
     "output_type": "stream",
     "text": [
      "/opt/conda/lib/python3.6/site-packages/sklearn/utils/validation.py:724: DataConversionWarning: A column-vector y was passed when a 1d array was expected. Please change the shape of y to (n_samples, ), for example using ravel().\n",
      "  y = column_or_1d(y, warn=True)\n",
      "/opt/conda/lib/python3.6/site-packages/sklearn/svm/base.py:193: FutureWarning: The default value of gamma will change from 'auto' to 'scale' in version 0.22 to account better for unscaled features. Set gamma explicitly to 'auto' or 'scale' to avoid this warning.\n",
      "  \"avoid this warning.\", FutureWarning)\n"
     ]
    },
    {
     "name": "stdout",
     "output_type": "stream",
     "text": [
      "Training score:  0.9635203352700257\n",
      "Testing score:  0.9526666666666667\n"
     ]
    }
   ],
   "source": [
    "from sklearn.svm import SVC\n",
    "svm = SVC()\n",
    "svm.fit(X_train, y_train)\n",
    "svm_score_train = svm.score(X_train, y_train)\n",
    "print(\"Training score: \",svm_score_train)\n",
    "svm_score_test = svm.score(X_test, y_test)\n",
    "print(\"Testing score: \",svm_score_test)"
   ]
  },
  {
   "cell_type": "markdown",
   "metadata": {},
   "source": [
    "# KNeighborsClassifier\n"
   ]
  },
  {
   "cell_type": "code",
   "execution_count": 33,
   "metadata": {},
   "outputs": [
    {
     "name": "stderr",
     "output_type": "stream",
     "text": [
      "/opt/conda/lib/python3.6/site-packages/ipykernel_launcher.py:3: DataConversionWarning: A column-vector y was passed when a 1d array was expected. Please change the shape of y to (n_samples, ), for example using ravel().\n",
      "  This is separate from the ipykernel package so we can avoid doing imports until\n"
     ]
    },
    {
     "name": "stdout",
     "output_type": "stream",
     "text": [
      "Training accuracy: 0.9903800361939232\n",
      "Test accuracy: 0.9593333333333334\n"
     ]
    }
   ],
   "source": [
    "from sklearn.neighbors import KNeighborsClassifier\n",
    "knn = KNeighborsClassifier(n_neighbors=2)\n",
    "knn.fit(X_train, y_train)\n",
    "knn_accuracy=knn.score(X_train, y_train)\n",
    "print('Training accuracy:',knn_accuracy )\n",
    "knn_accuracy_testdata = knn.score(X_test, y_test)\n",
    "print('Test accuracy:',knn_accuracy_testdata )"
   ]
  },
  {
   "cell_type": "markdown",
   "metadata": {},
   "source": [
    "# LogisticRegression model"
   ]
  },
  {
   "cell_type": "code",
   "execution_count": 34,
   "metadata": {},
   "outputs": [
    {
     "name": "stdout",
     "output_type": "stream",
     "text": [
      "Training score:  0.7693113629869511\n",
      "Testing score:  0.7595555555555555\n"
     ]
    },
    {
     "name": "stderr",
     "output_type": "stream",
     "text": [
      "/opt/conda/lib/python3.6/site-packages/sklearn/linear_model/logistic.py:432: FutureWarning: Default solver will be changed to 'lbfgs' in 0.22. Specify a solver to silence this warning.\n",
      "  FutureWarning)\n",
      "/opt/conda/lib/python3.6/site-packages/sklearn/utils/validation.py:724: DataConversionWarning: A column-vector y was passed when a 1d array was expected. Please change the shape of y to (n_samples, ), for example using ravel().\n",
      "  y = column_or_1d(y, warn=True)\n"
     ]
    }
   ],
   "source": [
    "LogisticRegression(penalty='l1')\n",
    "logis = LogisticRegression()\n",
    "logis.fit(X_train, y_train)\n",
    "logis_score_train = logis.score(X_train, y_train)\n",
    "print(\"Training score: \",logis_score_train)\n",
    "logis_score_test = logis.score(X_test, y_test)\n",
    "print(\"Testing score: \",logis_score_test)"
   ]
  },
  {
   "cell_type": "markdown",
   "metadata": {},
   "source": [
    " # All comparison"
   ]
  },
  {
   "cell_type": "code",
   "execution_count": 35,
   "metadata": {},
   "outputs": [
    {
     "data": {
      "text/html": [
       "<div>\n",
       "<style scoped>\n",
       "    .dataframe tbody tr th:only-of-type {\n",
       "        vertical-align: middle;\n",
       "    }\n",
       "\n",
       "    .dataframe tbody tr th {\n",
       "        vertical-align: top;\n",
       "    }\n",
       "\n",
       "    .dataframe thead th {\n",
       "        text-align: right;\n",
       "    }\n",
       "</style>\n",
       "<table border=\"1\" class=\"dataframe\">\n",
       "  <thead>\n",
       "    <tr style=\"text-align: right;\">\n",
       "      <th></th>\n",
       "      <th>Model</th>\n",
       "      <th>Training_Score</th>\n",
       "      <th>Testing_Score</th>\n",
       "    </tr>\n",
       "  </thead>\n",
       "  <tbody>\n",
       "    <tr>\n",
       "      <th>4</th>\n",
       "      <td>Random Forest</td>\n",
       "      <td>0.997524</td>\n",
       "      <td>0.986444</td>\n",
       "    </tr>\n",
       "    <tr>\n",
       "      <th>3</th>\n",
       "      <td>Decision Tree</td>\n",
       "      <td>0.999810</td>\n",
       "      <td>0.978889</td>\n",
       "    </tr>\n",
       "    <tr>\n",
       "      <th>2</th>\n",
       "      <td>kNN</td>\n",
       "      <td>0.990380</td>\n",
       "      <td>0.959333</td>\n",
       "    </tr>\n",
       "    <tr>\n",
       "      <th>1</th>\n",
       "      <td>SVM</td>\n",
       "      <td>0.963520</td>\n",
       "      <td>0.952667</td>\n",
       "    </tr>\n",
       "    <tr>\n",
       "      <th>5</th>\n",
       "      <td>GaussianNB</td>\n",
       "      <td>0.803219</td>\n",
       "      <td>0.803219</td>\n",
       "    </tr>\n",
       "    <tr>\n",
       "      <th>0</th>\n",
       "      <td>Logistic Regression</td>\n",
       "      <td>0.769311</td>\n",
       "      <td>0.759556</td>\n",
       "    </tr>\n",
       "  </tbody>\n",
       "</table>\n",
       "</div>"
      ],
      "text/plain": [
       "                 Model  Training_Score  Testing_Score\n",
       "4        Random Forest        0.997524       0.986444\n",
       "3        Decision Tree        0.999810       0.978889\n",
       "2                  kNN        0.990380       0.959333\n",
       "1                  SVM        0.963520       0.952667\n",
       "5           GaussianNB        0.803219       0.803219\n",
       "0  Logistic Regression        0.769311       0.759556"
      ]
     },
     "execution_count": 35,
     "metadata": {},
     "output_type": "execute_result"
    }
   ],
   "source": [
    "#Model comparison\n",
    "models = pd.DataFrame({\n",
    "        'Model'          : ['Logistic Regression', 'SVM', 'kNN', 'Decision Tree', 'Random Forest','GaussianNB'],\n",
    "        'Training_Score' : [logis_score_train, svm_score_train, knn_accuracy, dt_score_train, rf_accuracy, accuracy],\n",
    "        'Testing_Score'  : [logis_score_test, svm_score_test, knn_accuracy_testdata, dt_score_test, rf_accuracy_testdata,accuracy ]\n",
    "    })\n",
    "models.sort_values(by='Testing_Score', ascending=False)"
   ]
  },
  {
   "cell_type": "code",
   "execution_count": 36,
   "metadata": {},
   "outputs": [],
   "source": [
    "from sklearn.neural_network import MLPClassifier\n",
    "from sklearn.model_selection import train_test_split\n",
    "from sklearn.metrics import accuracy_score\n",
    "from sklearn.metrics import confusion_matrix"
   ]
  },
  {
   "cell_type": "code",
   "execution_count": null,
   "metadata": {},
   "outputs": [],
   "source": []
  },
  {
   "cell_type": "code",
   "execution_count": 37,
   "metadata": {},
   "outputs": [],
   "source": [
    "MLP = MLPClassifier(hidden_layer_sizes=(100,100,100), max_iter=500, alpha=0.0001,\n",
    "                     solver='sgd', verbose=10,  random_state=21,tol=0.000000001)"
   ]
  },
  {
   "cell_type": "code",
   "execution_count": 38,
   "metadata": {},
   "outputs": [
    {
     "name": "stderr",
     "output_type": "stream",
     "text": [
      "/opt/conda/lib/python3.6/site-packages/sklearn/neural_network/multilayer_perceptron.py:921: DataConversionWarning: A column-vector y was passed when a 1d array was expected. Please change the shape of y to (n_samples, ), for example using ravel().\n",
      "  y = column_or_1d(y, warn=True)\n"
     ]
    },
    {
     "name": "stdout",
     "output_type": "stream",
     "text": [
      "Iteration 1, loss = 1.65761638\n",
      "Iteration 2, loss = 0.57291441\n",
      "Iteration 3, loss = 0.57113637\n",
      "Iteration 4, loss = 0.57145382\n",
      "Iteration 5, loss = 0.57111536\n",
      "Iteration 6, loss = 0.56908500\n",
      "Iteration 7, loss = 0.56721721\n",
      "Iteration 8, loss = 0.56609078\n",
      "Iteration 9, loss = 0.56374623\n",
      "Iteration 10, loss = 0.56561672\n",
      "Iteration 11, loss = 0.56198382\n",
      "Iteration 12, loss = 0.56380342\n",
      "Iteration 13, loss = 0.56290921\n",
      "Iteration 14, loss = 0.56031747\n",
      "Iteration 15, loss = 0.56194226\n",
      "Iteration 16, loss = 0.56082748\n",
      "Iteration 17, loss = 0.55931525\n",
      "Iteration 18, loss = 0.55856173\n",
      "Iteration 19, loss = 0.55770043\n",
      "Iteration 20, loss = 0.55758727\n",
      "Iteration 21, loss = 0.55694324\n",
      "Iteration 22, loss = 0.55531761\n",
      "Iteration 23, loss = 0.55650492\n",
      "Iteration 24, loss = 0.55417669\n",
      "Iteration 25, loss = 0.55512467\n",
      "Iteration 26, loss = 0.55566243\n",
      "Iteration 27, loss = 0.55261479\n",
      "Iteration 28, loss = 0.55250984\n",
      "Iteration 29, loss = 0.55116489\n",
      "Iteration 30, loss = 0.54983769\n",
      "Iteration 31, loss = 0.54972590\n",
      "Iteration 32, loss = 0.54892253\n",
      "Iteration 33, loss = 0.54763269\n",
      "Iteration 34, loss = 0.54476301\n",
      "Iteration 35, loss = 0.55056663\n",
      "Iteration 36, loss = 0.54949831\n",
      "Iteration 37, loss = 0.54209799\n",
      "Iteration 38, loss = 0.54361838\n",
      "Iteration 39, loss = 0.54079710\n",
      "Iteration 40, loss = 0.54846501\n",
      "Iteration 41, loss = 0.54678778\n",
      "Iteration 42, loss = 0.54726334\n",
      "Iteration 43, loss = 0.54263103\n",
      "Iteration 44, loss = 0.54470566\n",
      "Iteration 45, loss = 0.54237931\n",
      "Iteration 46, loss = 0.54376374\n",
      "Iteration 47, loss = 0.54069361\n",
      "Iteration 48, loss = 0.54071020\n",
      "Iteration 49, loss = 0.53700659\n",
      "Iteration 50, loss = 0.53847993\n",
      "Iteration 51, loss = 0.54378508\n",
      "Iteration 52, loss = 0.54157480\n",
      "Iteration 53, loss = 0.54138081\n",
      "Iteration 54, loss = 0.53998645\n",
      "Iteration 55, loss = 0.54023617\n",
      "Iteration 56, loss = 0.53968978\n",
      "Iteration 57, loss = 0.54115569\n",
      "Iteration 58, loss = 0.53719843\n",
      "Iteration 59, loss = 0.53581114\n",
      "Iteration 60, loss = 0.53274327\n",
      "Iteration 61, loss = 0.53288856\n",
      "Iteration 62, loss = 0.53594032\n",
      "Iteration 63, loss = 0.53026858\n",
      "Iteration 64, loss = 0.52683310\n",
      "Iteration 65, loss = 0.53398545\n",
      "Iteration 66, loss = 0.53859052\n",
      "Iteration 67, loss = 0.53864127\n",
      "Iteration 68, loss = 0.53356336\n",
      "Iteration 69, loss = 0.53525972\n",
      "Iteration 70, loss = 0.53309973\n",
      "Iteration 71, loss = 0.53553282\n",
      "Iteration 72, loss = 0.53620761\n",
      "Iteration 73, loss = 0.53127248\n",
      "Iteration 74, loss = 0.52525352\n",
      "Iteration 75, loss = 0.52736774\n",
      "Iteration 76, loss = 0.52689167\n",
      "Iteration 77, loss = 0.52710178\n",
      "Iteration 78, loss = 0.53172540\n",
      "Iteration 79, loss = 0.52610915\n",
      "Iteration 80, loss = 0.52508353\n",
      "Iteration 81, loss = 0.52367193\n",
      "Iteration 82, loss = 0.51652829\n",
      "Iteration 83, loss = 0.52024797\n",
      "Iteration 84, loss = 0.52312410\n",
      "Iteration 85, loss = 0.52256713\n",
      "Iteration 86, loss = 0.51859116\n",
      "Iteration 87, loss = 0.51681772\n",
      "Iteration 88, loss = 0.51556803\n",
      "Iteration 89, loss = 0.50862746\n",
      "Iteration 90, loss = 0.50302210\n",
      "Iteration 91, loss = 0.54198926\n",
      "Iteration 92, loss = 0.53269634\n",
      "Iteration 93, loss = 0.53069010\n",
      "Iteration 94, loss = 0.52801778\n",
      "Iteration 95, loss = 0.52463309\n",
      "Iteration 96, loss = 0.52255543\n",
      "Iteration 97, loss = 0.51631248\n",
      "Iteration 98, loss = 0.52061843\n",
      "Iteration 99, loss = 0.53470483\n",
      "Iteration 100, loss = 0.53111091\n",
      "Iteration 101, loss = 0.52198671\n",
      "Training loss did not improve more than tol=0.000000 for 10 consecutive epochs. Stopping.\n"
     ]
    }
   ],
   "source": [
    "MLP.fit(X_train, y_train)\n",
    "y_pred = MLP.predict(X_test)"
   ]
  },
  {
   "cell_type": "code",
   "execution_count": 39,
   "metadata": {},
   "outputs": [],
   "source": [
    "cl = accuracy_score(y_test, y_pred)"
   ]
  },
  {
   "cell_type": "code",
   "execution_count": 40,
   "metadata": {},
   "outputs": [
    {
     "name": "stdout",
     "output_type": "stream",
     "text": [
      "0.7617777777777778\n"
     ]
    }
   ],
   "source": [
    "print(cl)"
   ]
  },
  {
   "cell_type": "code",
   "execution_count": 41,
   "metadata": {},
   "outputs": [
    {
     "data": {
      "image/png": "[encoded data removed]",
      "text/plain": [
       "<Figure size 1440x1080 with 6 Axes>"
      ]
     },
     "metadata": {
      "needs_background": "light"
     },
     "output_type": "display_data"
    }
   ],
   "source": [
    "#fig, (ax1, ax2, ax3, ax4, ax5) = plt.subplots(nrows = 2, ncols = 3, figsize = (15, 4))\n",
    "fig, ax_arr = plt.subplots(nrows = 2, ncols = 3, figsize = (20,15))\n",
    "\n",
    "#LOGMODEL\n",
    "probs = logis.predict_proba(X_test)\n",
    "preds = probs[:,1]\n",
    "fprlog, tprlog, thresholdlog = metrics.roc_curve(y_test, preds)\n",
    "roc_auclog = metrics.auc(fprlog, tprlog)\n",
    "\n",
    "ax_arr[0,0].plot(fprlog, tprlog, 'b', label = 'AUC = %0.2f' % roc_auclog)\n",
    "ax_arr[0,0].plot([0, 1], [0, 1],'r--')\n",
    "ax_arr[0,0].set_title('Receiver Operating Characteristic Logistic ',fontsize=20)\n",
    "ax_arr[0,0].set_ylabel('True Positive Rate',fontsize=20)\n",
    "ax_arr[0,0].set_xlabel('False Positive Rate',fontsize=15)\n",
    "ax_arr[0,0].legend(loc = 'lower right', prop={'size': 16})\n",
    "\n",
    "\n",
    "\n",
    "#RANDOM FOREST --------------------\n",
    "probs = rf_model.predict_proba(X_test)\n",
    "preds = probs[:,1]\n",
    "fprrfc, tprrfc, thresholdrfc = metrics.roc_curve(y_test, preds)\n",
    "roc_aucrfc = metrics.auc(fprrfc, tprrfc)\n",
    "\n",
    "ax_arr[0,1].plot(fprrfc, tprrfc, 'b', label = 'AUC = %0.2f' % roc_aucrfc)\n",
    "ax_arr[0,1].plot([0, 1], [0, 1],'r--')\n",
    "ax_arr[0,1].set_title('Receiver Operating Characteristic Random Forest ',fontsize=20)\n",
    "ax_arr[0,1].set_ylabel('True Positive Rate',fontsize=20)\n",
    "ax_arr[0,1].set_xlabel('False Positive Rate',fontsize=15)\n",
    "ax_arr[0,1].legend(loc = 'lower right', prop={'size': 16})\n",
    "\n",
    "#KNN----------------------\n",
    "probs = knn.predict_proba(X_test)\n",
    "preds = probs[:,1]\n",
    "fprknn, tprknn, thresholdknn = metrics.roc_curve(y_test, preds)\n",
    "roc_aucknn = metrics.auc(fprknn, tprknn)\n",
    "\n",
    "ax_arr[0,2].plot(fprknn, tprknn, 'b', label = 'AUC = %0.2f' % roc_aucknn)\n",
    "ax_arr[0,2].plot([0, 1], [0, 1],'r--')\n",
    "ax_arr[0,2].set_title('Receiver Operating Characteristic KNN ',fontsize=20)\n",
    "ax_arr[0,2].set_ylabel('True Positive Rate',fontsize=20)\n",
    "ax_arr[0,2].set_xlabel('False Positive Rate',fontsize=15)\n",
    "ax_arr[0,2].legend(loc = 'lower right', prop={'size': 16})\n",
    "\n",
    "\n",
    "#DECISION TREE ---------------------\n",
    "probs = dt.predict_proba(X_test)\n",
    "preds = probs[:,1]\n",
    "fprdtree, tprdtree, thresholddtree = metrics.roc_curve(y_test, preds)\n",
    "roc_aucdtree = metrics.auc(fprdtree, tprdtree)\n",
    "\n",
    "ax_arr[1,0].plot(fprdtree, tprdtree, 'b', label = 'AUC = %0.2f' % roc_aucdtree)\n",
    "ax_arr[1,0].plot([0, 1], [0, 1],'r--')\n",
    "ax_arr[1,0].set_title('Receiver Operating Characteristic Decision Tree ',fontsize=20)\n",
    "ax_arr[1,0].set_ylabel('True Positive Rate',fontsize=20)\n",
    "ax_arr[1,0].set_xlabel('False Positive Rate',fontsize=15)\n",
    "ax_arr[1,0].legend(loc = 'lower right', prop={'size': 16})\n",
    "\n",
    "#GAUSSIAN ---------------------\n",
    "probs = nb_model.predict_proba(X_test)\n",
    "preds = probs[:,1]\n",
    "fprgau, tprgau, thresholdgau = metrics.roc_curve(y_test, preds)\n",
    "roc_aucgau = metrics.auc(fprgau, tprgau)\n",
    "\n",
    "ax_arr[1,1].plot(fprgau, tprgau, 'b', label = 'AUC = %0.2f' % roc_aucgau)\n",
    "ax_arr[1,1].plot([0, 1], [0, 1],'r--')\n",
    "ax_arr[1,1].set_title('Receiver Operating Characteristic Gaussian ',fontsize=20)\n",
    "ax_arr[1,1].set_ylabel('True Positive Rate',fontsize=20)\n",
    "ax_arr[1,1].set_xlabel('False Positive Rate',fontsize=15)\n",
    "ax_arr[1,1].legend(loc = 'lower right', prop={'size': 16})\n",
    "\n",
    "#ALL PLOTS ----------------------------------\n",
    "ax_arr[1,2].plot(fprgau, tprgau, 'b', label = 'Gaussian= %0.2f' % roc_aucgau, color='black')\n",
    "ax_arr[1,2].plot(fprdtree, tprdtree, 'b', label = 'Decision Tree= %0.2f' % roc_aucdtree, color='blue')\n",
    "ax_arr[1,2].plot(fprknn, tprknn, 'b', label = 'Knn = %0.2f' % roc_aucknn, color='brown')\n",
    "ax_arr[1,2].plot(fprrfc, tprrfc, 'b', label = 'Random Forest = %0.2f' % roc_aucrfc, color='green')\n",
    "ax_arr[1,2].plot(fprlog, tprlog, 'b', label = 'Logistic = %0.2f' % roc_auclog, color='grey')\n",
    "ax_arr[1,2].plot(fprlog, tprlog, 'b', label = 'MLP =  %0.2f ' %cl , color='yellow')\n",
    "ax_arr[1,2].set_title('Receiver Operating Comparison ',fontsize=20)\n",
    "ax_arr[1,2].set_ylabel('True Positive Rate',fontsize=20)\n",
    "ax_arr[1,2].set_xlabel('False Positive Rate',fontsize=15)\n",
    "ax_arr[1,2].legend(loc = 'lower right', prop={'size': 16})\n",
    "\n",
    "plt.subplots_adjust(wspace=0.2)\n",
    "plt.tight_layout() "
   ]
  },
  {
   "cell_type": "code",
   "execution_count": 42,
   "metadata": {},
   "outputs": [
    {
     "name": "stderr",
     "output_type": "stream",
     "text": [
      "Using TensorFlow backend.\n"
     ]
    }
   ],
   "source": [
    "import keras\n",
    "#For building the Neural Network layer by layer\n",
    "from keras.models import Sequential\n",
    "#To randomly initialize the weights to small numbers close to 0(But not 0)\n",
    "from keras.layers import Dense"
   ]
  },
  {
   "cell_type": "code",
   "execution_count": 43,
   "metadata": {},
   "outputs": [
    {
     "name": "stdout",
     "output_type": "stream",
     "text": [
      "Epoch 1/100\n",
      "14999/14999 [==============================] - 2s 146us/step - loss: 0.7870 - accuracy: 0.7314\n",
      "Epoch 2/100\n",
      "14999/14999 [==============================] - 2s 124us/step - loss: 0.5483 - accuracy: 0.7529\n",
      "Epoch 3/100\n",
      "14999/14999 [==============================] - 2s 129us/step - loss: 0.5246 - accuracy: 0.7494\n",
      "Epoch 4/100\n",
      "14999/14999 [==============================] - 2s 137us/step - loss: 0.5139 - accuracy: 0.7497\n",
      "Epoch 5/100\n",
      "14999/14999 [==============================] - 2s 153us/step - loss: 0.5082 - accuracy: 0.7520\n",
      "Epoch 6/100\n",
      "14999/14999 [==============================] - 2s 121us/step - loss: 0.5013 - accuracy: 0.7513\n",
      "Epoch 7/100\n",
      "14999/14999 [==============================] - 2s 138us/step - loss: 0.5017 - accuracy: 0.7507\n",
      "Epoch 8/100\n",
      "14999/14999 [==============================] - 2s 126us/step - loss: 0.4968 - accuracy: 0.7515\n",
      "Epoch 9/100\n",
      "14999/14999 [==============================] - 2s 133us/step - loss: 0.4928 - accuracy: 0.7532\n",
      "Epoch 10/100\n",
      "14999/14999 [==============================] - 2s 144us/step - loss: 0.4970 - accuracy: 0.7519\n",
      "Epoch 11/100\n",
      "14999/14999 [==============================] - 2s 137us/step - loss: 0.4973 - accuracy: 0.7513\n",
      "Epoch 12/100\n",
      "14999/14999 [==============================] - 2s 123us/step - loss: 0.4940 - accuracy: 0.7551\n",
      "Epoch 13/100\n",
      "14999/14999 [==============================] - 2s 122us/step - loss: 0.4882 - accuracy: 0.7516\n",
      "Epoch 14/100\n",
      "14999/14999 [==============================] - 2s 125us/step - loss: 0.4910 - accuracy: 0.7499\n",
      "Epoch 15/100\n",
      "14999/14999 [==============================] - 2s 131us/step - loss: 0.4901 - accuracy: 0.7526\n",
      "Epoch 16/100\n",
      "14999/14999 [==============================] - 2s 152us/step - loss: 0.4883 - accuracy: 0.7537\n",
      "Epoch 17/100\n",
      "14999/14999 [==============================] - 2s 122us/step - loss: 0.4907 - accuracy: 0.7515\n",
      "Epoch 18/100\n",
      "14999/14999 [==============================] - 2s 121us/step - loss: 0.4856 - accuracy: 0.7524\n",
      "Epoch 19/100\n",
      "14999/14999 [==============================] - 2s 122us/step - loss: 0.4822 - accuracy: 0.7556\n",
      "Epoch 20/100\n",
      "14999/14999 [==============================] - 2s 130us/step - loss: 0.4892 - accuracy: 0.7560\n",
      "Epoch 21/100\n",
      "14999/14999 [==============================] - 2s 139us/step - loss: 0.4810 - accuracy: 0.7569\n",
      "Epoch 22/100\n",
      "14999/14999 [==============================] - 2s 137us/step - loss: 0.4855 - accuracy: 0.7568\n",
      "Epoch 23/100\n",
      "14999/14999 [==============================] - 2s 122us/step - loss: 0.4781 - accuracy: 0.7589\n",
      "Epoch 24/100\n",
      "14999/14999 [==============================] - 2s 121us/step - loss: 0.4644 - accuracy: 0.7650\n",
      "Epoch 25/100\n",
      "14999/14999 [==============================] - 2s 120us/step - loss: 0.4478 - accuracy: 0.7757\n",
      "Epoch 26/100\n",
      "14999/14999 [==============================] - 2s 133us/step - loss: 0.4312 - accuracy: 0.7886\n",
      "Epoch 27/100\n",
      "14999/14999 [==============================] - 2s 123us/step - loss: 0.4210 - accuracy: 0.7955\n",
      "Epoch 28/100\n",
      "14999/14999 [==============================] - 2s 122us/step - loss: 0.4155 - accuracy: 0.8027\n",
      "Epoch 29/100\n",
      "14999/14999 [==============================] - 2s 123us/step - loss: 0.4049 - accuracy: 0.8105\n",
      "Epoch 30/100\n",
      "14999/14999 [==============================] - 2s 122us/step - loss: 0.4000 - accuracy: 0.8167\n",
      "Epoch 31/100\n",
      "14999/14999 [==============================] - 2s 132us/step - loss: 0.3953 - accuracy: 0.8249\n",
      "Epoch 32/100\n",
      "14999/14999 [==============================] - 2s 123us/step - loss: 0.3903 - accuracy: 0.8275\n",
      "Epoch 33/100\n",
      "14999/14999 [==============================] - 2s 123us/step - loss: 0.3799 - accuracy: 0.8373\n",
      "Epoch 34/100\n",
      "14999/14999 [==============================] - 2s 122us/step - loss: 0.3779 - accuracy: 0.8362\n",
      "Epoch 35/100\n",
      "14999/14999 [==============================] - 2s 123us/step - loss: 0.3718 - accuracy: 0.8405\n",
      "Epoch 36/100\n",
      "14999/14999 [==============================] - 2s 138us/step - loss: 0.3727 - accuracy: 0.8434\n",
      "Epoch 37/100\n",
      "14999/14999 [==============================] - 2s 123us/step - loss: 0.3635 - accuracy: 0.8473\n",
      "Epoch 38/100\n",
      "14999/14999 [==============================] - 2s 123us/step - loss: 0.3553 - accuracy: 0.8563\n",
      "Epoch 39/100\n",
      "14999/14999 [==============================] - 2s 123us/step - loss: 0.3452 - accuracy: 0.8569\n",
      "Epoch 40/100\n",
      "14999/14999 [==============================] - 2s 134us/step - loss: 0.3237 - accuracy: 0.8719\n",
      "Epoch 41/100\n",
      "14999/14999 [==============================] - 2s 127us/step - loss: 0.3088 - accuracy: 0.8794\n",
      "Epoch 42/100\n",
      "14999/14999 [==============================] - 2s 125us/step - loss: 0.3038 - accuracy: 0.8804\n",
      "Epoch 43/100\n",
      "14999/14999 [==============================] - 2s 123us/step - loss: 0.2921 - accuracy: 0.8879\n",
      "Epoch 44/100\n",
      "14999/14999 [==============================] - 2s 124us/step - loss: 0.2877 - accuracy: 0.8893\n",
      "Epoch 45/100\n",
      "14999/14999 [==============================] - 2s 136us/step - loss: 0.2825 - accuracy: 0.8913\n",
      "Epoch 46/100\n",
      "14999/14999 [==============================] - 2s 122us/step - loss: 0.2753 - accuracy: 0.8963\n",
      "Epoch 47/100\n",
      "14999/14999 [==============================] - 2s 122us/step - loss: 0.2735 - accuracy: 0.8971\n",
      "Epoch 48/100\n",
      "14999/14999 [==============================] - 2s 122us/step - loss: 0.2693 - accuracy: 0.8978\n",
      "Epoch 49/100\n",
      "14999/14999 [==============================] - 2s 132us/step - loss: 0.2646 - accuracy: 0.9007\n",
      "Epoch 50/100\n",
      "14999/14999 [==============================] - 2s 146us/step - loss: 0.2591 - accuracy: 0.9029\n",
      "Epoch 51/100\n",
      "14999/14999 [==============================] - 2s 130us/step - loss: 0.2581 - accuracy: 0.9051\n",
      "Epoch 52/100\n",
      "14999/14999 [==============================] - 2s 123us/step - loss: 0.2570 - accuracy: 0.9055\n",
      "Epoch 53/100\n",
      "14999/14999 [==============================] - 2s 123us/step - loss: 0.2549 - accuracy: 0.9087\n",
      "Epoch 54/100\n",
      "14999/14999 [==============================] - 2s 135us/step - loss: 0.2540 - accuracy: 0.9077\n",
      "Epoch 55/100\n",
      "14999/14999 [==============================] - 2s 124us/step - loss: 0.2521 - accuracy: 0.9077\n",
      "Epoch 56/100\n",
      "14999/14999 [==============================] - 2s 124us/step - loss: 0.2478 - accuracy: 0.9115\n",
      "Epoch 57/100\n",
      "14999/14999 [==============================] - 2s 122us/step - loss: 0.2504 - accuracy: 0.9076\n",
      "Epoch 58/100\n",
      "14999/14999 [==============================] - 2s 134us/step - loss: 0.2492 - accuracy: 0.9100\n",
      "Epoch 59/100\n",
      "14999/14999 [==============================] - 2s 126us/step - loss: 0.2465 - accuracy: 0.9113\n",
      "Epoch 60/100\n",
      "14999/14999 [==============================] - 2s 120us/step - loss: 0.2499 - accuracy: 0.9119\n",
      "Epoch 61/100\n",
      "14999/14999 [==============================] - 2s 119us/step - loss: 0.2440 - accuracy: 0.9161\n",
      "Epoch 62/100\n",
      "14999/14999 [==============================] - 2s 119us/step - loss: 0.2465 - accuracy: 0.9129\n",
      "Epoch 63/100\n",
      "14999/14999 [==============================] - 2s 119us/step - loss: 0.2429 - accuracy: 0.9149\n",
      "Epoch 64/100\n",
      "14999/14999 [==============================] - 2s 120us/step - loss: 0.2434 - accuracy: 0.9164\n",
      "Epoch 65/100\n",
      "14999/14999 [==============================] - 2s 119us/step - loss: 0.2427 - accuracy: 0.9153\n",
      "Epoch 66/100\n",
      "14999/14999 [==============================] - 2s 120us/step - loss: 0.2444 - accuracy: 0.9171\n",
      "Epoch 67/100\n",
      "14999/14999 [==============================] - 2s 119us/step - loss: 0.2435 - accuracy: 0.9152\n",
      "Epoch 68/100\n",
      "14999/14999 [==============================] - 2s 118us/step - loss: 0.2414 - accuracy: 0.9173\n",
      "Epoch 69/100\n",
      "14999/14999 [==============================] - 2s 120us/step - loss: 0.2414 - accuracy: 0.9167\n",
      "Epoch 70/100\n",
      "14999/14999 [==============================] - 2s 120us/step - loss: 0.2443 - accuracy: 0.9171\n",
      "Epoch 71/100\n",
      "14999/14999 [==============================] - 2s 119us/step - loss: 0.2414 - accuracy: 0.9178\n",
      "Epoch 72/100\n",
      "14999/14999 [==============================] - 2s 120us/step - loss: 0.2449 - accuracy: 0.9151\n",
      "Epoch 73/100\n",
      "14999/14999 [==============================] - 2s 120us/step - loss: 0.2415 - accuracy: 0.9159\n",
      "Epoch 74/100\n",
      "14999/14999 [==============================] - 2s 120us/step - loss: 0.2411 - accuracy: 0.9189\n",
      "Epoch 75/100\n",
      "14999/14999 [==============================] - 2s 121us/step - loss: 0.2389 - accuracy: 0.9190\n",
      "Epoch 76/100\n",
      "14999/14999 [==============================] - 2s 120us/step - loss: 0.2390 - accuracy: 0.9187\n",
      "Epoch 77/100\n",
      "14999/14999 [==============================] - 2s 120us/step - loss: 0.2386 - accuracy: 0.9172\n",
      "Epoch 78/100\n",
      "14999/14999 [==============================] - 2s 119us/step - loss: 0.2355 - accuracy: 0.9194\n",
      "Epoch 79/100\n",
      "14999/14999 [==============================] - 2s 119us/step - loss: 0.2342 - accuracy: 0.9215\n",
      "Epoch 80/100\n",
      "14999/14999 [==============================] - 2s 120us/step - loss: 0.2330 - accuracy: 0.9193\n",
      "Epoch 81/100\n",
      "14999/14999 [==============================] - 2s 120us/step - loss: 0.2350 - accuracy: 0.9177\n",
      "Epoch 82/100\n",
      "14999/14999 [==============================] - 2s 120us/step - loss: 0.2339 - accuracy: 0.9213\n",
      "Epoch 83/100\n",
      "14999/14999 [==============================] - 2s 120us/step - loss: 0.2353 - accuracy: 0.9174\n",
      "Epoch 84/100\n",
      "14999/14999 [==============================] - 2s 120us/step - loss: 0.2313 - accuracy: 0.9206\n",
      "Epoch 85/100\n",
      "14999/14999 [==============================] - 2s 120us/step - loss: 0.2329 - accuracy: 0.9184\n",
      "Epoch 86/100\n",
      "14999/14999 [==============================] - 2s 121us/step - loss: 0.2328 - accuracy: 0.9205\n",
      "Epoch 87/100\n",
      "14999/14999 [==============================] - 2s 120us/step - loss: 0.2339 - accuracy: 0.9197\n",
      "Epoch 88/100\n",
      "14999/14999 [==============================] - 2s 122us/step - loss: 0.2306 - accuracy: 0.9203\n",
      "Epoch 89/100\n",
      "14999/14999 [==============================] - 2s 121us/step - loss: 0.2325 - accuracy: 0.9197\n",
      "Epoch 90/100\n",
      "14999/14999 [==============================] - 2s 121us/step - loss: 0.2312 - accuracy: 0.9196\n",
      "Epoch 91/100\n",
      "14999/14999 [==============================] - 2s 120us/step - loss: 0.2330 - accuracy: 0.9182\n",
      "Epoch 92/100\n",
      "14999/14999 [==============================] - 2s 121us/step - loss: 0.2305 - accuracy: 0.9222\n",
      "Epoch 93/100\n",
      "14999/14999 [==============================] - 2s 119us/step - loss: 0.2320 - accuracy: 0.9200\n",
      "Epoch 94/100\n",
      "14999/14999 [==============================] - 2s 120us/step - loss: 0.2308 - accuracy: 0.9199\n",
      "Epoch 95/100\n",
      "14999/14999 [==============================] - 2s 120us/step - loss: 0.2302 - accuracy: 0.9225\n",
      "Epoch 96/100\n",
      "14999/14999 [==============================] - 2s 120us/step - loss: 0.2328 - accuracy: 0.9196\n",
      "Epoch 97/100\n",
      "14999/14999 [==============================] - 2s 119us/step - loss: 0.2297 - accuracy: 0.9215\n",
      "Epoch 98/100\n",
      "14999/14999 [==============================] - 2s 121us/step - loss: 0.2297 - accuracy: 0.9219\n",
      "Epoch 99/100\n",
      "14999/14999 [==============================] - 2s 121us/step - loss: 0.2279 - accuracy: 0.9229\n",
      "Epoch 100/100\n",
      "14999/14999 [==============================] - 2s 122us/step - loss: 0.2310 - accuracy: 0.9207\n"
     ]
    },
    {
     "data": {
      "text/plain": [
       "<keras.callbacks.callbacks.History at 0x7f46456066d8>"
      ]
     },
     "execution_count": 43,
     "metadata": {},
     "output_type": "execute_result"
    }
   ],
   "source": [
    "model = Sequential()\n",
    "\n",
    "# Add the first layer\n",
    "# input_dim=   has to be the number of input variables. \n",
    "# It represent the number of inputs in the first layer,one per column \n",
    "model.add(Dense(12, input_dim=5, activation='relu'))\n",
    "\n",
    "# Add the second layer\n",
    "model.add(Dense(8, activation='relu'))\n",
    "\n",
    "# Add the output layer\n",
    "model.add(Dense(1, activation='sigmoid'))\n",
    "\n",
    "# Compile model\n",
    "model.compile(loss='binary_crossentropy', optimizer='adam', metrics=['accuracy'])\n",
    "\n",
    "# Fit the model\n",
    "model.fit(X, y, epochs=100, batch_size=10)"
   ]
  },
  {
   "cell_type": "code",
   "execution_count": 44,
   "metadata": {},
   "outputs": [],
   "source": [
    "y_pred = model.predict(X_test)\n",
    "y_pred = (y_pred > 0.5)"
   ]
  },
  {
   "cell_type": "code",
   "execution_count": 45,
   "metadata": {},
   "outputs": [
    {
     "name": "stdout",
     "output_type": "stream",
     "text": [
      "[[False]\n",
      " [False]\n",
      " [False]\n",
      " ...\n",
      " [False]\n",
      " [False]\n",
      " [False]]\n"
     ]
    }
   ],
   "source": [
    "print(y_pred)"
   ]
  },
  {
   "cell_type": "code",
   "execution_count": 46,
   "metadata": {},
   "outputs": [
    {
     "name": "stdout",
     "output_type": "stream",
     "text": [
      "[[3294  134]\n",
      " [ 210  862]]\n"
     ]
    }
   ],
   "source": [
    "from sklearn.metrics import confusion_matrix\n",
    "cm = confusion_matrix(y_test, y_pred)\n",
    "print(cm)"
   ]
  },
  {
   "cell_type": "code",
   "execution_count": 47,
   "metadata": {},
   "outputs": [
    {
     "name": "stdout",
     "output_type": "stream",
     "text": [
      "0.8032193542242119\n"
     ]
    }
   ],
   "source": [
    "print(accuracy)"
   ]
  },
  {
   "cell_type": "code",
   "execution_count": null,
   "metadata": {},
   "outputs": [],
   "source": []
  }
 ],
 "metadata": {
  "kernelspec": {
   "display_name": "Python 3",
   "language": "python",
   "name": "python3"
  },
  "language_info": {
   "codemirror_mode": {
    "name": "ipython",
    "version": 3
   },
   "file_extension": ".py",
   "mimetype": "text/x-python",
   "name": "python",
   "nbconvert_exporter": "python",
   "pygments_lexer": "ipython3",
   "version": "3.6.6"
  }
 },
 "nbformat": 4,
 "nbformat_minor": 1
}
